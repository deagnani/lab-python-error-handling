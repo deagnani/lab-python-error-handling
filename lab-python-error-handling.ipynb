{
 "cells": [
  {
   "cell_type": "markdown",
   "id": "25d7736c-ba17-4aff-b6bb-66eba20fbf4e",
   "metadata": {},
   "source": [
    "# Lab | Error Handling"
   ]
  },
  {
   "cell_type": "markdown",
   "id": "bc99b386-7508-47a0-bcdb-d969deaf6c8b",
   "metadata": {},
   "source": [
    "## Exercise: Error Handling for Managing Customer Orders\n",
    "\n",
    "The implementation of your code for managing customer orders assumes that the user will always enter a valid input. \n",
    "\n",
    "For example, we could modify the `initialize_inventory` function to include error handling.\n",
    "   - If the user enters an invalid quantity (e.g., a negative value or a non-numeric value), display an error message and ask them to re-enter the quantity for that product.\n",
    "   - Use a try-except block to handle the error and continue prompting the user until a valid quantity is entered.\n",
    "\n",
    "```python\n",
    "# Step 1: Define the function for initializing the inventory with error handling\n",
    "def initialize_inventory(products):\n",
    "    inventory = {}\n",
    "    for product in products:\n",
    "        valid_quantity = False\n",
    "        while not valid_quantity:\n",
    "            try:\n",
    "                quantity = int(input(f\"Enter the quantity of {product}s available: \"))\n",
    "                if quantity < 0:\n",
    "                    raise ValueError(\"Invalid quantity! Please enter a non-negative value.\")\n",
    "                valid_quantity = True\n",
    "            except ValueError as error:\n",
    "                print(f\"Error: {error}\")\n",
    "        inventory[product] = quantity\n",
    "    return inventory\n",
    "\n",
    "# Or, in another way:\n",
    "\n",
    "def initialize_inventory(products):\n",
    "    inventory = {}\n",
    "    for product in products:\n",
    "        valid_input = False\n",
    "        while not valid_input:\n",
    "            try:\n",
    "                quantity = int(input(f\"Enter the quantity of {product}s available: \"))\n",
    "                if quantity >= 0:\n",
    "                    inventory[product] = quantity\n",
    "                    valid_input = True\n",
    "                else:\n",
    "                    print(\"Quantity cannot be negative. Please enter a valid quantity.\")\n",
    "            except ValueError:\n",
    "                print(\"Invalid input. Please enter a valid quantity.\")\n",
    "    return inventory\n",
    "```\n",
    "\n",
    "Let's enhance your code by implementing error handling to handle invalid inputs.\n",
    "\n",
    "Follow the steps below to complete the exercise:\n",
    "\n",
    "2. Modify the `calculate_total_price` function to include error handling.\n",
    "   - If the user enters an invalid price (e.g., a negative value or a non-numeric value), display an error message and ask them to re-enter the price for that product.\n",
    "   - Use a try-except block to handle the error and continue prompting the user until a valid price is entered.\n",
    "\n",
    "3. Modify the `get_customer_orders` function to include error handling.\n",
    "   - If the user enters an invalid number of orders (e.g., a negative value or a non-numeric value), display an error message and ask them to re-enter the number of orders.\n",
    "   - If the user enters an invalid product name (e.g., a product name that is not in the inventory), or that doesn't have stock available, display an error message and ask them to re-enter the product name. *Hint: you will need to pass inventory as a parameter*\n",
    "   - Use a try-except block to handle the error and continue prompting the user until a valid product name is entered.\n",
    "\n",
    "4. Test your code by running the program and deliberately entering invalid quantities and product names. Make sure the error handling mechanism works as expected.\n"
   ]
  },
  {
   "cell_type": "code",
   "execution_count": 30,
   "id": "896f007e-3aef-460c-a0c1-417915ec30be",
   "metadata": {},
   "outputs": [],
   "source": [
    "products=[\"mango\",\"apple\",\"pears\",\"lemon\"]"
   ]
  },
  {
   "cell_type": "code",
   "execution_count": 70,
   "id": "d2ba63cf-fcde-409e-b6d9-6396851c2393",
   "metadata": {},
   "outputs": [],
   "source": [
    "def initialize_inventory(products):\n",
    "    inventory = {}\n",
    "    for product in products:\n",
    "        valid_quantity = False\n",
    "        while not valid_quantity:\n",
    "            try:\n",
    "                quantity = int(input(f\"Enter the quantity of {product}s available: \"))\n",
    "                if quantity < 0:\n",
    "                    raise ValueError(\"Invalid quantity! Please enter a non-negative value.\")\n",
    "                inventory[product] = quantity\n",
    "                valid_quantity = True\n",
    "                \n",
    "            except ValueError as error:\n",
    "                print(f\"Error: {error}\")\n",
    "       \n",
    "    return inventory"
   ]
  },
  {
   "cell_type": "code",
   "execution_count": 71,
   "id": "9bce7b09-f667-41f7-ac6b-4e78b2d2dd38",
   "metadata": {},
   "outputs": [],
   "source": [
    "  def calculate_total_price(products):\n",
    "    prices = {}  # Initialize the dictionary to store product prices\n",
    "    for product in products:\n",
    "        valid_price = False\n",
    "        while not valid_price:\n",
    "            try:\n",
    "                price = float(input(f\"Enter the price for {product}: \"))\n",
    "                if price < 0:\n",
    "                    raise ValueError(\"Invalid price! Please enter a non-negative value.\")\n",
    "                valid_price = True\n",
    "                prices[product] = price  \n",
    "            except ValueError as error:\n",
    "                print(f\"Error: {error}\")\n",
    "    total_price = sum(prices.values()) \n",
    "    return total_price\n"
   ]
  },
  {
   "cell_type": "markdown",
   "id": "8184445b-b895-4689-801f-15f5ca6ffda1",
   "metadata": {},
   "source": [
    "#### initialize_inventory(products)"
   ]
  },
  {
   "cell_type": "code",
   "execution_count": 63,
   "id": "bad58499-7efd-48a5-96d7-86ec28a6947e",
   "metadata": {},
   "outputs": [
    {
     "name": "stdin",
     "output_type": "stream",
     "text": [
      "Enter the price for mango:  4\n",
      "Enter the price for apple:  5\n",
      "Enter the price for pears:  6\n",
      "Enter the price for lemon:  5\n"
     ]
    },
    {
     "data": {
      "text/plain": [
       "20.0"
      ]
     },
     "execution_count": 63,
     "metadata": {},
     "output_type": "execute_result"
    }
   ],
   "source": [
    "calculate_total_price(products)"
   ]
  },
  {
   "cell_type": "code",
   "execution_count": 72,
   "id": "b894649a-66d7-4a8d-befa-32a0d364af11",
   "metadata": {},
   "outputs": [],
   "source": [
    "def get_customer_orders(inventory):\n",
    "    while True:\n",
    "        try:\n",
    "            number_of_orders = int(input(\"Enter the number of different products you want to order: \"))\n",
    "            if number_of_orders < 0:\n",
    "                raise ValueError(\"Number of orders cannot be negative.\")\n",
    "            break  \n",
    "        except ValueError as error:\n",
    "            print(f\"Error: {error}. Please enter a valid integer for the number of orders.\")\n",
    "\n",
    "    orders = []\n",
    "    for i in range(number_of_orders):\n",
    "        valid_order = False\n",
    "        while not valid_order:\n",
    "            product_name = input(f\"Enter the name of the product that you want to order ({i+1}/{number_of_orders}): \")\n",
    "            if product_name in inventory and inventory[product_name] > 0:\n",
    "                orders.append(product_name)\n",
    "                valid_order = True\n",
    "            else:\n",
    "                print(\"Invalid product name or out of stock. Please enter a valid product name that is in stock.\")\n",
    "    return orders\n"
   ]
  },
  {
   "cell_type": "code",
   "execution_count": 77,
   "id": "7cd74df4-1b20-4c2f-86d6-04b0d013228b",
   "metadata": {},
   "outputs": [
    {
     "name": "stdin",
     "output_type": "stream",
     "text": [
      "Enter the quantity of mangos available:  5\n",
      "Enter the quantity of apples available:  5\n",
      "Enter the quantity of pearss available:  5\n",
      "Enter the quantity of lemons available:  5\n",
      "Enter the price for mango:  5\n",
      "Enter the price for apple:  5\n",
      "Enter the price for pears:  5\n",
      "Enter the price for lemon:  5\n",
      "Enter the number of different products you want to order:  fad\n"
     ]
    },
    {
     "name": "stdout",
     "output_type": "stream",
     "text": [
      "Error: invalid literal for int() with base 10: 'fad'. Please enter a valid integer for the number of orders.\n"
     ]
    },
    {
     "name": "stdin",
     "output_type": "stream",
     "text": [
      "Enter the number of different products you want to order:  3\n",
      "Enter the name of the product that you want to order (1/3):  asda\n"
     ]
    },
    {
     "name": "stdout",
     "output_type": "stream",
     "text": [
      "Invalid product name or out of stock. Please enter a valid product name that is in stock.\n"
     ]
    },
    {
     "name": "stdin",
     "output_type": "stream",
     "text": [
      "Enter the name of the product that you want to order (1/3):  apple\n",
      "Enter the name of the product that you want to order (2/3):  lemons\n"
     ]
    },
    {
     "name": "stdout",
     "output_type": "stream",
     "text": [
      "Invalid product name or out of stock. Please enter a valid product name that is in stock.\n"
     ]
    },
    {
     "name": "stdin",
     "output_type": "stream",
     "text": [
      "Enter the name of the product that you want to order (2/3):  pears\n",
      "Enter the name of the product that you want to order (3/3):  mangos\n"
     ]
    },
    {
     "name": "stdout",
     "output_type": "stream",
     "text": [
      "Invalid product name or out of stock. Please enter a valid product name that is in stock.\n"
     ]
    },
    {
     "name": "stdin",
     "output_type": "stream",
     "text": [
      "Enter the name of the product that you want to order (3/3):  mango\n"
     ]
    },
    {
     "name": "stdout",
     "output_type": "stream",
     "text": [
      "Customer Orders: ['apple', 'pears', 'mango']\n"
     ]
    }
   ],
   "source": [
    "inventory= initialize_inventory(products)\n",
    "calculate_total_price(products)\n",
    "orders = get_customer_orders( inventory)\n",
    "print(\"Customer Orders:\", orders)\n"
   ]
  },
  {
   "cell_type": "code",
   "execution_count": null,
   "id": "b2ae3543-009f-4617-a311-bf94f22ae824",
   "metadata": {},
   "outputs": [],
   "source": []
  }
 ],
 "metadata": {
  "kernelspec": {
   "display_name": "Python 3 (ipykernel)",
   "language": "python",
   "name": "python3"
  },
  "language_info": {
   "codemirror_mode": {
    "name": "ipython",
    "version": 3
   },
   "file_extension": ".py",
   "mimetype": "text/x-python",
   "name": "python",
   "nbconvert_exporter": "python",
   "pygments_lexer": "ipython3",
   "version": "3.11.5"
  }
 },
 "nbformat": 4,
 "nbformat_minor": 5
}
